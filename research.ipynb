{
 "cells": [
  {
   "cell_type": "code",
   "execution_count": 1,
   "metadata": {},
   "outputs": [],
   "source": [
    "from lib.model_wrapper import ModelWrapper, MODEL_ULTRALYTICS_YOLO, MODEL_YOLOV9\n",
    "from lib.model_evaluator import ModelEvaluator\n",
    "import json"
   ]
  },
  {
   "cell_type": "code",
   "execution_count": 2,
   "metadata": {},
   "outputs": [
    {
     "name": "stdout",
     "output_type": "stream",
     "text": [
      "Loaded model of type YOLOv9 from models/yolov9-m.pt - Running on cuda\n",
      "loading annotations into memory...\n",
      "Done (t=0.26s)\n",
      "creating index...\n",
      "index created!\n",
      "Loaded dataset with 2892 images, 13307 annotations\n",
      "datasets/val2017\\000000397133.jpg\n",
      "Image 1: Success\n"
     ]
    }
   ],
   "source": [
    "# Evaluate with Ultralytics YOLO\n",
    "model = ModelWrapper(\n",
    "    model_type=MODEL_YOLOV9,\n",
    "    model_path='models/yolov9-m.pt'\n",
    ")\n",
    "\n",
    "evaluator = ModelEvaluator(model)\n",
    "\n",
    "results = evaluator.evaluate(\n",
    "    annotation='datasets/val2017/annotation.json'\n",
    ")"
   ]
  }
 ],
 "metadata": {
  "kernelspec": {
   "display_name": "Python 3",
   "language": "python",
   "name": "python3"
  },
  "language_info": {
   "codemirror_mode": {
    "name": "ipython",
    "version": 3
   },
   "file_extension": ".py",
   "mimetype": "text/x-python",
   "name": "python",
   "nbconvert_exporter": "python",
   "pygments_lexer": "ipython3",
   "version": "3.11.0"
  }
 },
 "nbformat": 4,
 "nbformat_minor": 2
}
